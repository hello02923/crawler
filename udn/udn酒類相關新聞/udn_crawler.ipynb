{
 "cells": [
  {
   "cell_type": "code",
   "execution_count": 1,
   "metadata": {},
   "outputs": [],
   "source": [
    "import random \n",
    "import pandas as pd\n",
    "import time\n",
    "from bs4 import BeautifulSoup\n",
    "import requests\n",
    "import json\n",
    "import csv\n",
    "from tqdm import tqdm\n",
    "import re\n",
    "from datetime import datetime"
   ]
  },
  {
   "cell_type": "code",
   "execution_count": 3,
   "metadata": {},
   "outputs": [
    {
     "name": "stdout",
     "output_type": "stream",
     "text": [
      "https://udn.com/api/more?page=2&id=search:%E2%80%BB%20%E6%8F%90%E9%86%92%E6%82%A8%EF%BC%9A%E7%A6%81%E6%AD%A2&channelId=2&type=searchword\n"
     ]
    }
   ],
   "source": [
    "page= 1\n",
    "base_url = \"https://udn.com/api/more\"\n",
    "\n",
    "news_list = []\n",
    "\n",
    "HEADERS = {\n",
    "'User-Agent': 'Mozilla/5.0 (Windows NT 10.0; Win64; x64) AppleWebKit/537.36 (KHTML, like Gecko) Chrome/81.0.4044.92 Safari/537.36',\n",
    "}    \n",
    "channelId = 2\n",
    "type_ = 'searchword'\n",
    "search_ = '%E2%80%BB%20%E6%8F%90%E9%86%92%E6%82%A8%EF%BC%9A%E7%A6%81%E6%AD%A2'\n",
    "query = f\"page={page+1}&id=search:{search_}&channelId={channelId}&type={type_}\"\n",
    "news_list_url = base_url + '?' + query\n",
    "\n",
    "print(news_list_url)"
   ]
  },
  {
   "cell_type": "code",
   "execution_count": 4,
   "metadata": {},
   "outputs": [],
   "source": [
    "def get_news_list(page_num):\n",
    "    ### total:289 pages\n",
    "    ### 參考資料：https://blog.jiatool.com/posts/udn_spider/\n",
    "    \n",
    "    \"\"\"\n",
    "    爬取新聞列表\n",
    "    page_num:網頁頁數\n",
    "    \"\"\"\n",
    "    base_url = \"https://udn.com/api/more\"\n",
    "\n",
    "    news_list = []\n",
    "    \n",
    "    HEADERS = {\n",
    "    'User-Agent': 'Mozilla/5.0 (Windows NT 10.0; Win64; x64) AppleWebKit/537.36 (KHTML, like Gecko) Chrome/81.0.4044.92 Safari/537.36',\n",
    "    }\n",
    "    \n",
    "    for page in tqdm(range(page_num)):\n",
    "        ### 找出 Ajax 去請求的網址，然後照他的請求方式、參數來取得資料。\n",
    "        \n",
    "        channelId = 2\n",
    "        type_ = 'searchword'\n",
    "        search_ = '%E2%80%BB%20%E6%8F%90%E9%86%92%E6%82%A8%EF%BC%9A%E7%A6%81%E6%AD%A2'\n",
    "        query = f\"page={page+1}&id=search:{search_}&channelId={channelId}&type={type_}\"\n",
    "        news_list_url = base_url + '?' + query\n",
    "        \n",
    "        r = requests.get(news_list_url, headers=HEADERS)\n",
    "        news_data = r.json()\n",
    "        news_list.extend(news_data['lists'])\n",
    "        time.sleep(random.uniform(1, 2))\n",
    "    \n",
    "    news_udn = [] ###網址是udn.com，主要抓這邊的資料\n",
    "    news_other = [] ###網址是其他的，可能是其他新聞網或是udn附屬的其他網站，資料格式不太一樣\n",
    "    \n",
    "    for i in news_list:\n",
    "        json_ = {\n",
    "                'title':i['title'].replace('\\u2003',''),\n",
    "                'link':i['titleLink'],\n",
    "                'cateLink':i['cateLink'],\n",
    "                'cateTitle':i['cateTitle'],\n",
    "                'time':i['time']['date'],\n",
    "            }\n",
    "        if i['titleLink'].split('/')[2] == 'udn.com':\n",
    "            news_udn.append(json_)\n",
    "        else:\n",
    "            news_other.append(json_)\n",
    "            \n",
    "    ### 先寫進.txt，以後收集資料可以抓取來用        \n",
    "    with open('udn_com.txt', 'w') as outfile:\n",
    "        json.dump(news_udn, outfile)  \n",
    "    \n",
    "    with open('udn_other.txt', 'w') as outfile:\n",
    "        json.dump(news_other, outfile)\n",
    "        \n",
    "    return news_udn\n",
    "\n",
    "def get_news_home_content(url):\n",
    "\n",
    "    \"\"\"\n",
    "    爬取網頁內文\n",
    "    url:網址\n",
    "    \"\"\"\n",
    "    \n",
    "    HEADERS = {\n",
    "    'User-Agent': 'Mozilla/5.0 (Windows NT 10.0; Win64; x64) AppleWebKit/537.36 (KHTML, like Gecko) Chrome/81.0.4044.92 Safari/537.36',\n",
    "    }\n",
    "    r = requests.get(url, headers=HEADERS)\n",
    "    sp=BeautifulSoup(r.text,'lxml')\n",
    "\n",
    "    try:\n",
    "        author=sp.find('span','article-content__author').text\n",
    "        Author = (re.sub(r'[\\n ]*', '', author))\n",
    "    except AttributeError:\n",
    "        Author = 'None'\n",
    "    \n",
    "    try:\n",
    "        ad = \".innity-apps-underlay-ad {z-index: 34 !important; }.innity-apps-underlay-ad ~ .header {z-index: 35;}.innity-apps-underlay-ad ~ .main-content .inline-ads { background: transparent;}.article-content__editor video {max-width: 100%;} /* to be remove*/    googletag.cmd.push(function() { googletag.display('ads-inline'); });\"\n",
    "        content = sp.find('section','article-content__editor').text\n",
    "        Content = (re.sub(r'[\\n\\r]*', '', content).replace(ad, ''))\n",
    "    except AttributeError:\n",
    "        Content = 'None'\n",
    "    json_ = {\n",
    "        \n",
    "        'author' : Author,\n",
    "        'content' : Content\n",
    "        \n",
    "    }\n",
    "    return json_"
   ]
  },
  {
   "cell_type": "code",
   "execution_count": 6,
   "metadata": {
    "scrolled": true
   },
   "outputs": [
    {
     "name": "stderr",
     "output_type": "stream",
     "text": [
      "100%|██████████| 289/289 [11:42<00:00,  2.43s/it]\n"
     ]
    }
   ],
   "source": [
    "all_list = get_news_list(289)"
   ]
  },
  {
   "cell_type": "code",
   "execution_count": 47,
   "metadata": {},
   "outputs": [
    {
     "data": {
      "text/plain": [
       "3100"
      ]
     },
     "execution_count": 47,
     "metadata": {},
     "output_type": "execute_result"
    }
   ],
   "source": [
    "len(all_list)"
   ]
  },
  {
   "cell_type": "markdown",
   "metadata": {},
   "source": [
    "### 去除掉標題可能是非酒類相關文章"
   ]
  },
  {
   "cell_type": "code",
   "execution_count": 66,
   "metadata": {},
   "outputs": [
    {
     "name": "stderr",
     "output_type": "stream",
     "text": [
      "100%|██████████| 3100/3100 [00:00<00:00, 375757.66it/s]\n"
     ]
    }
   ],
   "source": [
    "news_alcohol = []\n",
    "news_accident = []\n",
    "\n",
    "for i in tqdm(range(len(all_list))):\n",
    "    if '酒駕' in all_list[i]['title']:\n",
    "        news_accident.append(all_list[i])\n",
    "    elif '酒測' in all_list[i]['title']:\n",
    "        news_accident.append(all_list[i])\n",
    "    elif '酒瘋' in all_list[i]['title']:\n",
    "        news_accident.append(all_list[i]) \n",
    "    else:\n",
    "        news_alcohol.append(all_list[i])\n",
    "        "
   ]
  },
  {
   "cell_type": "code",
   "execution_count": 67,
   "metadata": {
    "scrolled": true
   },
   "outputs": [
    {
     "data": {
      "text/plain": [
       "312"
      ]
     },
     "execution_count": 67,
     "metadata": {},
     "output_type": "execute_result"
    }
   ],
   "source": [
    "len(news_accident)"
   ]
  },
  {
   "cell_type": "code",
   "execution_count": 68,
   "metadata": {
    "scrolled": true
   },
   "outputs": [
    {
     "data": {
      "text/plain": [
       "2788"
      ]
     },
     "execution_count": 68,
     "metadata": {},
     "output_type": "execute_result"
    }
   ],
   "source": [
    "len(news_alcohol)"
   ]
  },
  {
   "cell_type": "markdown",
   "metadata": {},
   "source": [
    "### 爬取內文"
   ]
  },
  {
   "cell_type": "code",
   "execution_count": 71,
   "metadata": {},
   "outputs": [
    {
     "name": "stderr",
     "output_type": "stream",
     "text": [
      "100%|██████████| 2788/2788 [1:10:18<00:00,  1.51s/it]\n"
     ]
    }
   ],
   "source": [
    "author_content = []\n",
    "for i in tqdm(range(len(news_alcohol))):\n",
    "    data = get_news_home_content(news_alcohol[i]['link'])\n",
    "    author_content.append(data)"
   ]
  },
  {
   "cell_type": "markdown",
   "metadata": {},
   "source": [
    "###  整理資料"
   ]
  },
  {
   "cell_type": "code",
   "execution_count": 73,
   "metadata": {},
   "outputs": [
    {
     "name": "stderr",
     "output_type": "stream",
     "text": [
      "100%|██████████| 2788/2788 [00:00<00:00, 226066.07it/s]\n"
     ]
    }
   ],
   "source": [
    "for i in tqdm(range(len(author_content))):\n",
    "    news_alcohol[i]['author'] = author_content[i]['author']\n",
    "    news_alcohol[i]['content'] = author_content[i]['content']"
   ]
  },
  {
   "cell_type": "markdown",
   "metadata": {},
   "source": [
    "### 輸出.json"
   ]
  },
  {
   "cell_type": "code",
   "execution_count": 75,
   "metadata": {},
   "outputs": [],
   "source": [
    "with open('0213udn_alcohol.json','a') as outfile:\n",
    "    json.dump(news_alcohol, outfile, ensure_ascii=False)\n",
    "    outfile.write('\\n')"
   ]
  },
  {
   "cell_type": "markdown",
   "metadata": {},
   "source": [
    "### 匯入mongoDB"
   ]
  },
  {
   "cell_type": "code",
   "execution_count": 76,
   "metadata": {},
   "outputs": [],
   "source": [
    "from pymongo import MongoClient"
   ]
  },
  {
   "cell_type": "code",
   "execution_count": 77,
   "metadata": {},
   "outputs": [
    {
     "data": {
      "text/plain": [
       "<pymongo.results.InsertManyResult at 0x11bfaeb08>"
      ]
     },
     "execution_count": 77,
     "metadata": {},
     "output_type": "execute_result"
    }
   ],
   "source": [
    "client = MongoClient('mongodb://localhost:27017/')\n",
    "client_db = client['simi']\n",
    "client_col = client_db['udn_酒類新聞']\n",
    "\n",
    "with open('0213udn_alcohol.json') as f:\n",
    "    file_data = json.load(f)\n",
    "\n",
    "client_col.insert_many(file_data)"
   ]
  },
  {
   "cell_type": "code",
   "execution_count": null,
   "metadata": {},
   "outputs": [],
   "source": []
  }
 ],
 "metadata": {
  "kernelspec": {
   "display_name": "Python 3",
   "language": "python",
   "name": "python3"
  },
  "language_info": {
   "codemirror_mode": {
    "name": "ipython",
    "version": 3
   },
   "file_extension": ".py",
   "mimetype": "text/x-python",
   "name": "python",
   "nbconvert_exporter": "python",
   "pygments_lexer": "ipython3",
   "version": "3.7.1"
  },
  "toc": {
   "base_numbering": 1,
   "nav_menu": {},
   "number_sections": true,
   "sideBar": true,
   "skip_h1_title": false,
   "title_cell": "Table of Contents",
   "title_sidebar": "Contents",
   "toc_cell": false,
   "toc_position": {},
   "toc_section_display": true,
   "toc_window_display": false
  }
 },
 "nbformat": 4,
 "nbformat_minor": 2
}
