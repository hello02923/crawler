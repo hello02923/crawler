{
 "cells": [
  {
   "cell_type": "code",
   "execution_count": 1,
   "metadata": {},
   "outputs": [],
   "source": [
    "import pandas as pd\n",
    "import numpy as np\n",
    "import matplotlib.pyplot as plt\n",
    "import json\n",
    "from sklearn.feature_extraction.text import CountVectorizer\n",
    "from sklearn.feature_extraction.text import TfidfVectorizer\n",
    "from sklearn.feature_extraction.text import TfidfTransformer\n",
    "from datetime import datetime\n",
    "from plotnine import*\n",
    "from matplotlib.font_manager import findfont\n",
    "from pymongo import MongoClient\n",
    "import time"
   ]
  },
  {
   "cell_type": "code",
   "execution_count": 2,
   "metadata": {},
   "outputs": [],
   "source": [
    "def mongodb(database, table, username, password):    ### 匯入資料庫\n",
    "#     client = MongoClient('localhost', 27017)\n",
    "    client = MongoClient('163.14.137.58',8099, username=f'{username}', password=f'{password}')     ## 老師server\n",
    "    time.sleep(3)\n",
    "    db = client[f'{database}']                ## simi:database名稱\n",
    "    collection_currency = db[f'{table}']      ## ptt:table名稱\n",
    "    time.sleep(3)\n",
    "    data = pd.DataFrame(data = collection_currency.find())    \n",
    "    \n",
    "    return data\n",
    "# ptt = mongodb('text_mining', 'ptt_wine','simi','simi')"
   ]
  },
  {
   "cell_type": "code",
   "execution_count": 3,
   "metadata": {},
   "outputs": [],
   "source": [
    "class TfidfEmbeddingVectorizer(object):\n",
    "\tdef __init__(self, word_model):\n",
    "\n",
    "\t\tself.word_model = word_model\n",
    "\t\tself.word_idf_weight = None\n",
    "\t\tself.vector_size = word_model.wv.vector_size\n",
    "\n",
    "\tdef fit(self, docs):  # comply with scikit-learn transformer requirement\n",
    "\t\t\"\"\"\n",
    "\t\tFit in a list of docs, which had been preprocessed and tokenized,\n",
    "\t\tsuch as word bi-grammed, stop-words removed, lemmatized, part of speech filtered.\n",
    "\t\tThen build up a tfidf model to compute each word's idf as its weight.\n",
    "\t\tNoted that tf weight is already involved when constructing average word vectors, and thus omitted.\n",
    "\t\t:param\n",
    "\t\t\tpre_processed_docs: list of docs, which are tokenized\n",
    "\t\t:return:\n",
    "\t\t\tself\n",
    "\t\t\"\"\"\n",
    "\n",
    "\t\ttext_docs = []\n",
    "\t\tfor doc in docs:\n",
    "\t\t\ttext_docs.append(\" \".join(doc))\n",
    "\n",
    "\t\ttfidf = TfidfVectorizer()\n",
    "\t\ttfidf.fit(text_docs)  # must be list of text string\n",
    "\n",
    "\t\t# if a word was never seen - it must be at least as infrequent\n",
    "\t\t# as any of the known words - so the default idf is the max of\n",
    "\t\t# known idf's\n",
    "\t\tmax_idf = max(tfidf.idf_)  # used as default value for defaultdict\n",
    "\t\tself.word_idf_weight = defaultdict(lambda: max_idf,\n",
    "\t\t\t\t\t\t   [(word, tfidf.idf_[i]) for word, i in tfidf.vocabulary_.items()])\n",
    "\t\treturn self\n",
    "\n",
    "\n",
    "\tdef transform(self, docs):  # comply with scikit-learn transformer requirement\n",
    "\t\tdoc_word_vector = self.word_average_list(docs)\n",
    "\t\treturn doc_word_vector\n",
    "\n",
    "\n",
    "\tdef word_average(self, sent):\n",
    "\t\t\"\"\"\n",
    "\t\tCompute average word vector for a single doc/sentence.\n",
    "\t\t:param sent: list of sentence tokens\n",
    "\t\t:return:\n",
    "\t\t\tmean: float of averaging word vectors\n",
    "\t\t\"\"\"\n",
    "\n",
    "\t\tmean = []\n",
    "\t\tfor word in sent:\n",
    "\t\t\tif word in self.word_model.wv.vocab:\n",
    "\t\t\t\tmean.append(self.word_model.wv.get_vector(word) * self.word_idf_weight[word])  # idf weighted\n",
    "\n",
    "\t\tif not mean:  # empty words\n",
    "\t\t\t# If a text is empty, return a vector of zeros.\n",
    "\t\t\tlogging.warning(\"cannot compute average owing to no vector for {}\".format(sent))\n",
    "\t\t\treturn np.zeros(self.vector_size)\n",
    "\t\telse:\n",
    "\t\t\tmean = np.array(mean).mean(axis=0)\n",
    "\t\t\treturn mean\n",
    "\n",
    "\n",
    "\tdef word_average_list(self, docs):\n",
    "\t\t\"\"\"\n",
    "\t\tCompute average word vector for multiple docs, where docs had been tokenized.\n",
    "\t\t:param docs: list of sentence in list of separated tokens\n",
    "\t\t:return:\n",
    "\t\t\tarray of average word vector in shape (len(docs),)\n",
    "\t\t\"\"\"\n",
    "\t\treturn np.vstack([self.word_average(sent) for sent in docs])"
   ]
  },
  {
   "cell_type": "code",
   "execution_count": 4,
   "metadata": {},
   "outputs": [
    {
     "data": {
      "text/html": [
       "<div>\n",
       "<style scoped>\n",
       "    .dataframe tbody tr th:only-of-type {\n",
       "        vertical-align: middle;\n",
       "    }\n",
       "\n",
       "    .dataframe tbody tr th {\n",
       "        vertical-align: top;\n",
       "    }\n",
       "\n",
       "    .dataframe thead th {\n",
       "        text-align: right;\n",
       "    }\n",
       "</style>\n",
       "<table border=\"1\" class=\"dataframe\">\n",
       "  <thead>\n",
       "    <tr style=\"text-align: right;\">\n",
       "      <th></th>\n",
       "      <th>_id</th>\n",
       "      <th>index</th>\n",
       "      <th>time</th>\n",
       "      <th>content</th>\n",
       "      <th>comments</th>\n",
       "    </tr>\n",
       "  </thead>\n",
       "  <tbody>\n",
       "    <tr>\n",
       "      <th>0</th>\n",
       "      <td>603c7f32d723d5c04c4d7755</td>\n",
       "      <td>0</td>\n",
       "      <td>2021-01-27 16:24:00</td>\n",
       "      <td>[蒂, 芬妮, 月亮, 寶石, 麝香, 氣泡, 葡萄酒, 還配, 高雅, 氣泡, 酒杯, 口...</td>\n",
       "      <td>[{'index': 0, 'created_at': 2021-01-27 21:52:0...</td>\n",
       "    </tr>\n",
       "    <tr>\n",
       "      <th>1</th>\n",
       "      <td>603c7f32d723d5c04c4d7756</td>\n",
       "      <td>1</td>\n",
       "      <td>2021-01-27 15:32:00</td>\n",
       "      <td>[Highland, Journey, Blended, Malt, 46.2%, 獵人, ...</td>\n",
       "      <td>[{'index': 0, 'created_at': 2021-01-27 15:33:0...</td>\n",
       "    </tr>\n",
       "    <tr>\n",
       "      <th>2</th>\n",
       "      <td>603c7f32d723d5c04c4d7757</td>\n",
       "      <td>2</td>\n",
       "      <td>2021-01-26 21:29:00</td>\n",
       "      <td>[Taiwind, Beer, 暖果, 荔枝, IPA, 7%, 這瓶, 暖果, 一倒, 非...</td>\n",
       "      <td>[{'index': 0, 'created_at': 2021-01-27 22:00:0...</td>\n",
       "    </tr>\n",
       "  </tbody>\n",
       "</table>\n",
       "</div>"
      ],
      "text/plain": [
       "                        _id  index                time  \\\n",
       "0  603c7f32d723d5c04c4d7755      0 2021-01-27 16:24:00   \n",
       "1  603c7f32d723d5c04c4d7756      1 2021-01-27 15:32:00   \n",
       "2  603c7f32d723d5c04c4d7757      2 2021-01-26 21:29:00   \n",
       "\n",
       "                                             content  \\\n",
       "0  [蒂, 芬妮, 月亮, 寶石, 麝香, 氣泡, 葡萄酒, 還配, 高雅, 氣泡, 酒杯, 口...   \n",
       "1  [Highland, Journey, Blended, Malt, 46.2%, 獵人, ...   \n",
       "2  [Taiwind, Beer, 暖果, 荔枝, IPA, 7%, 這瓶, 暖果, 一倒, 非...   \n",
       "\n",
       "                                            comments  \n",
       "0  [{'index': 0, 'created_at': 2021-01-27 21:52:0...  \n",
       "1  [{'index': 0, 'created_at': 2021-01-27 15:33:0...  \n",
       "2  [{'index': 0, 'created_at': 2021-01-27 22:00:0...  "
      ]
     },
     "execution_count": 4,
     "metadata": {},
     "output_type": "execute_result"
    }
   ],
   "source": [
    "fb1 = mongodb('text_mining','facebook_little_drunk','simi','simi')\n",
    "fb1.head(3)"
   ]
  },
  {
   "cell_type": "code",
   "execution_count": 5,
   "metadata": {},
   "outputs": [],
   "source": [
    "doc = []\n",
    "for i in fb1['content'][:3]:\n",
    "    for x in i:\n",
    "        doc.append(i)\n",
    "# doc = fb1['content']"
   ]
  },
  {
   "cell_type": "code",
   "execution_count": 6,
   "metadata": {},
   "outputs": [],
   "source": [
    "from gensim.models.word2vec import Word2Vec\n",
    "word_model = Word2Vec(doc, min_count=2, size=100, window=5, iter=100)"
   ]
  },
  {
   "cell_type": "code",
   "execution_count": 7,
   "metadata": {},
   "outputs": [],
   "source": [
    "from collections import namedtuple, defaultdict\n",
    "\n",
    "# from Tfidf_em_vec import TfidfEmbeddingVectorizer\n",
    "tfidf_vec_tr = TfidfEmbeddingVectorizer(word_model)\n",
    "tfidf_vec_tr.fit(doc)  # fit tfidf model first\n",
    "tfidf_doc_vec = tfidf_vec_tr.transform(doc)##文本向量"
   ]
  },
  {
   "cell_type": "code",
   "execution_count": 13,
   "metadata": {},
   "outputs": [
    {
     "ename": "TypeError",
     "evalue": "'tuple' object is not callable",
     "output_type": "error",
     "traceback": [
      "\u001b[1;31m---------------------------------------------------------------------------\u001b[0m",
      "\u001b[1;31mTypeError\u001b[0m                                 Traceback (most recent call last)",
      "\u001b[1;32m<ipython-input-13-d253521f120b>\u001b[0m in \u001b[0;36m<module>\u001b[1;34m\u001b[0m\n\u001b[1;32m----> 1\u001b[1;33m \u001b[0mtfidf_doc_vec\u001b[0m\u001b[1;33m.\u001b[0m\u001b[0mshape\u001b[0m\u001b[1;33m(\u001b[0m\u001b[1;33m)\u001b[0m\u001b[1;33m\u001b[0m\u001b[1;33m\u001b[0m\u001b[0m\n\u001b[0m",
      "\u001b[1;31mTypeError\u001b[0m: 'tuple' object is not callable"
     ]
    }
   ],
   "source": [
    "tfidf_doc_vec"
   ]
  },
  {
   "cell_type": "code",
   "execution_count": null,
   "metadata": {},
   "outputs": [],
   "source": [
    "from wordcloud import WordCloud\n",
    "for i in range(0,5): \n",
    "    text = r202003.loc[i].content\n",
    " \n",
    "    wc = WordCloud(font_path=\"NotoSansCJKtc-Black.otf\", #設定字體\n",
    "         background_color=\"white\", #背景顏色\n",
    "         max_words = 2000,    #文字雲顯示最大詞數\n",
    "         stopwords = stopwords)  #刪除停用字\n",
    "\n",
    "wc.generate(text) \n",
    "\n",
    "plt.imshow(wc)\n",
    "plt.axis(\"off\")\n",
    "plt.savefig('2020年3月UDN文字趨勢文字雲.png')\n",
    "plt.figure(figsize=(10,6), dpi = 100)\n",
    "plt.show()\n"
   ]
  }
 ],
 "metadata": {
  "kernelspec": {
   "display_name": "Python 3",
   "language": "python",
   "name": "python3"
  },
  "language_info": {
   "codemirror_mode": {
    "name": "ipython",
    "version": 3
   },
   "file_extension": ".py",
   "mimetype": "text/x-python",
   "name": "python",
   "nbconvert_exporter": "python",
   "pygments_lexer": "ipython3",
   "version": "3.7.9"
  }
 },
 "nbformat": 4,
 "nbformat_minor": 4
}
