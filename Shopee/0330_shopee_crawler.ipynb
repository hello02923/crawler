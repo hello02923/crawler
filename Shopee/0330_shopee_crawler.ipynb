{
 "cells": [
  {
   "cell_type": "code",
   "execution_count": null,
   "metadata": {},
   "outputs": [],
   "source": [
    "import time"
   ]
  },
  {
   "cell_type": "markdown",
   "metadata": {},
   "source": [
    "## selenium"
   ]
  },
  {
   "cell_type": "code",
   "execution_count": null,
   "metadata": {},
   "outputs": [],
   "source": [
    "from webdriver_manager.chrome import ChromeDriverManager\n",
    "from selenium import webdriver\n",
    "from selenium.webdriver.support.ui import WebDriverWait\n",
    "from selenium.webdriver.common.by import By\n",
    "from selenium.webdriver.support import expected_conditions as EC\n",
    "\n",
    "options = webdriver.ChromeOptions()\n",
    "# options.add_argument('--headless')\n",
    "# options.add_argument('start-maximized')\n",
    "# options.add_argument('disable-infobars')\n",
    "# options.add_argument('--disable-extensions')"
   ]
  },
  {
   "cell_type": "markdown",
   "metadata": {},
   "source": [
    "### 如果把driver關掉可能會有沒有抓完的情況，因此還是建議打開"
   ]
  },
  {
   "cell_type": "code",
   "execution_count": null,
   "metadata": {
    "scrolled": true
   },
   "outputs": [],
   "source": [
    "keyword = input(\"Enter your value: \")\n",
    "browser = webdriver.Chrome(executable_path=ChromeDriverManager().install(), chrome_options=options)\n",
    "basic_url = 'https://shopee.tw/search?keyword={keyword}&page={page}'\n",
    "\n",
    "shop_list = []\n",
    "sold_list = []\n",
    "for page in range(2):\n",
    "    url = basic_url.format(keyword=keyword, page=page)\n",
    "    print(url)\n",
    "    \n",
    "    browser.get(url)\n",
    "\n",
    "    js = \"return action=document.body.scrollHeight\"\n",
    "    height = 0\n",
    "    new_height = browser.execute_script(js)\n",
    "\n",
    "    while height < new_height:\n",
    "        for i in range(height, new_height, 500):\n",
    "            browser.execute_script('window.scrollTo(0, {})'.format(i))\n",
    "            time.sleep(3)\n",
    "        height = new_height\n",
    "        time.sleep(3)\n",
    "        new_height = browser.execute_script(js)\n",
    "\n",
    "    shop_id = browser.find_elements_by_css_selector(\"a[data-sqe='link']\")\n",
    "    for shop in shop_id:\n",
    "        shop_href = shop.get_attribute(\"href\")\n",
    "        shop_id = shop_href.split('.')[-1]\n",
    "        shop_list.append(shop_id)\n",
    "\n",
    "    sold_out = browser.find_elements_by_class_name('go5yPW')\n",
    "    for sold in sold_out:\n",
    "        if sold.text:\n",
    "            sold_out = sold.text.split(' ')[-1]\n",
    "        else:\n",
    "            sold = '已售出 0'\n",
    "            sold_out = sold.split(' ')[-1]\n",
    "        sold_list.append(sold)\n",
    "            \n",
    "browser.close()\n",
    "print('done')"
   ]
  },
  {
   "cell_type": "code",
   "execution_count": null,
   "metadata": {},
   "outputs": [],
   "source": [
    "len(sold_list)"
   ]
  },
  {
   "cell_type": "code",
   "execution_count": null,
   "metadata": {},
   "outputs": [],
   "source": [
    "len(shop_list)"
   ]
  },
  {
   "cell_type": "markdown",
   "metadata": {},
   "source": [
    "## API"
   ]
  },
  {
   "cell_type": "code",
   "execution_count": 4,
   "metadata": {},
   "outputs": [
    {
     "name": "stdout",
     "output_type": "stream",
     "text": [
      "enter your keyword:milk\n"
     ]
    }
   ],
   "source": [
    "# import logging.config\n",
    "import logging\n",
    "import requests\n",
    "import pandas as pd\n",
    "from datetime import datetime\n",
    "# filename = datetime.strftime(datetime.now(), '%Y%m%d_%H%M%S') + '_objective3.log'\n",
    "# log_path = 'logs/' + filename \n",
    "log_path = 'logs/shopee_crawler.log'\n",
    "logging.basicConfig(\n",
    "    level=logging.INFO,\n",
    "    format='%(asctime)s - %(levelname)s : %(message)s',\n",
    "    filename=log_path)\n",
    "\n",
    "# logging.config.fileConfig(fname='log.conf', defaults={'logfile': filename})\n",
    "# logger = logging.getLogger('cathy3')\n",
    "# logger.info('Start objective 3')\n",
    "\n",
    "# input keyword then search keyword\n",
    "keyword = (input('enter your keyword:'))\n",
    "url = ('https://shopee.tw/api/v2/search_items/?by=relevancy&keyword={keyword}' \\\n",
    "       '&limit=50&newest=0&order=desc&page_type={page}&version=2')\n",
    "\n",
    "headers = {\n",
    "    'User-Agent': 'Mozilla/5.0 (X11; Linux x86_64; rv:73.0) Gecko/20100101 Firefox/73.0',\n",
    "    'X-Requested-With': 'XMLHttpRequest',  \n",
    "}    \n",
    "\n",
    "shop_list = []\n",
    "sold_list = []\n",
    "\n",
    "try:\n",
    "    # limit 300 products in 6 pages\n",
    "    for page in range(1, 7):\n",
    "        single_page = url.format(keyword=keyword, page=page)\n",
    "        parsing = requests.get(single_page, headers=headers)\n",
    "        data = parsing.json()\n",
    "        items_list = data['items']\n",
    "        \n",
    "        # if items_list is true then get shop_id & sold_out into list    \n",
    "        if items_list:\n",
    "            logging.info('products exist have {count} records'.format(count=len(items_list)))\n",
    "            for item in items_list:\n",
    "                shop_list.append(item['shopid'])\n",
    "                sold_list.append(item['historical_sold'])\n",
    "            if len(items_list) == int(50):\n",
    "                pass\n",
    "            else:\n",
    "                break\n",
    "        else:\n",
    "            break\n",
    "    logging.info('{count} rows of shop_list'.format(count=len(shop_list)))\n",
    "    logging.info('{count} rows of sold_list'.format(count=len(sold_list)))\n",
    "                \n",
    "except requests.exceptions.HTTPError as error_http:\n",
    "    logging.exception(error_http)\n",
    "except requests.exceptions.ConnectionError as error_connect:\n",
    "    logging.exception(error_connect)\n",
    "except requests.exceptions.Timeout as error_time:\n",
    "    logging.exception(error_time)\n",
    "except requests.exceptions.RequestException as error:\n",
    "    logging.exception(error)\n",
    "\n",
    "try:\n",
    "    # turn data_list to dataframe \n",
    "    record_df = pd.DataFrame(columns=['shop_id', 'sold_out'])\n",
    "    record_df['shop_id'] = shop_list\n",
    "    record_df['sold_out'] = sold_list\n",
    "#     logger.info('turn to dataframe')\n",
    "    # dataframe groupby 'shop_id'\n",
    "    group_df = record_df.groupby(['shop_id']).agg({'sold_out':sum})\n",
    "    group_record_df = group_df.reset_index()\n",
    "    logging.info('complete data groupby {data}'.format(data=group_record_df))\n",
    "    # dataframe sort by 'sold_out'\n",
    "    sort_record_df = group_record_df.sort_values(by='sold_out', ascending=False)\n",
    "    all_record_df = sort_record_df.reset_index(drop=True)\n",
    "    logging.info('complete data sorting by shop_id {data}'.format(data=all_record_df))\n",
    "    logging.info('Success groupby & sorting in dataframe')\n",
    "    \n",
    "except FutureWarning as warning:\n",
    "    logging.warning(warning)\n",
    "except Exception as inst:\n",
    "    logging.exception(inst)\n",
    "    \n",
    "# get 50 data \n",
    "if len(all_record_df) > 50 :\n",
    "    counts = 50\n",
    "else:\n",
    "    counts = len(all_record_df)\n",
    "logging.info('length of dataframe:{count}'.format(count=counts))\n",
    "\n",
    "# output as Stipulate format\n",
    "input_word = 'The number {number} shop is {shop_id} with sales amount {sold_out}'\n",
    "for count in range(counts):\n",
    "    shop_id = (all_record_df['shop_id'][count])\n",
    "    sold_out = (all_record_df['sold_out'][count])\n",
    "    output = input_word.format(number=count+1, shop_id=shop_id, sold_out=sold_out)\n",
    "    logging.info(output)\n",
    "\n",
    "logging.info('Finish objective 3')    \n"
   ]
  },
  {
   "cell_type": "code",
   "execution_count": null,
   "metadata": {},
   "outputs": [],
   "source": []
  }
 ],
 "metadata": {
  "kernelspec": {
   "display_name": "Python 3",
   "language": "python",
   "name": "python3"
  },
  "language_info": {
   "codemirror_mode": {
    "name": "ipython",
    "version": 3
   },
   "file_extension": ".py",
   "mimetype": "text/x-python",
   "name": "python",
   "nbconvert_exporter": "python",
   "pygments_lexer": "ipython3",
   "version": "3.7.1"
  },
  "toc": {
   "base_numbering": 1,
   "nav_menu": {},
   "number_sections": true,
   "sideBar": true,
   "skip_h1_title": false,
   "title_cell": "Table of Contents",
   "title_sidebar": "Contents",
   "toc_cell": false,
   "toc_position": {},
   "toc_section_display": true,
   "toc_window_display": false
  }
 },
 "nbformat": 4,
 "nbformat_minor": 2
}
