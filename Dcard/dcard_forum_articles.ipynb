{
 "cells": [
  {
   "cell_type": "code",
   "execution_count": 1,
   "metadata": {
    "ExecuteTime": {
     "end_time": "2021-03-01T03:05:23.114563Z",
     "start_time": "2021-03-01T03:05:22.487125Z"
    }
   },
   "outputs": [],
   "source": [
    "import pandas as pd\n",
    "import numpy as np\n",
    "import requests\n",
    "from pymongo import MongoClient\n",
    "import sys, getopt\n",
    "import warnings\n",
    "import time\n",
    "import json\n",
    "from datetime import date\n",
    "warnings.filterwarnings('ignore')"
   ]
  },
  {
   "cell_type": "code",
   "execution_count": 2,
   "metadata": {},
   "outputs": [],
   "source": [
    "try:\n",
    "    opts, args = getopt.getopt(sys.argv[1:], \"hf:\", [\"forum=\"])\n",
    "except getopt.GetoptError:\n",
    "    print('dcard_forum_articles.py -f <forum name>')\n",
    "    sys.exit(2)\n",
    "    \n",
    "for opt, arg in opts:\n",
    "    if opt == '-h':\n",
    "        print('dcard_forum_articles.py -f <forum name>')\n",
    "        sys.exit()\n",
    "    elif opt in (\"-f\", \"--forum\"):\n",
    "        forum = arg"
   ]
  },
  {
   "cell_type": "code",
   "execution_count": 3,
   "metadata": {},
   "outputs": [],
   "source": [
    "client = MongoClient('mongodb://localhost:27017/')"
   ]
  },
  {
   "cell_type": "code",
   "execution_count": 4,
   "metadata": {},
   "outputs": [],
   "source": [
    "forum = 'alcohol'"
   ]
  },
  {
   "cell_type": "code",
   "execution_count": 5,
   "metadata": {},
   "outputs": [],
   "source": [
    "dcard_col = client['Dcard'][forum]"
   ]
  },
  {
   "cell_type": "code",
   "execution_count": 6,
   "metadata": {},
   "outputs": [
    {
     "data": {
      "text/plain": [
       "'2021-03-27T05:44:49.034Z'"
      ]
     },
     "execution_count": 6,
     "metadata": {},
     "output_type": "execute_result"
    }
   ],
   "source": [
    "last_time_data = dcard_col.find().sort(\"updatedAt\", -1).limit(1)\n",
    "for i in last_time_data:\n",
    "    last_time = i['updatedAt']\n",
    "last_time"
   ]
  },
  {
   "cell_type": "code",
   "execution_count": 7,
   "metadata": {},
   "outputs": [],
   "source": [
    "forums = forum\n",
    "url = f'https://www.dcard.tw/service/api/v2/forums/{forums}/posts'"
   ]
  },
  {
   "cell_type": "code",
   "execution_count": null,
   "metadata": {},
   "outputs": [],
   "source": [
    "params = {\n",
    "    'limit':1,\n",
    "    'popular':'false'\n",
    "}"
   ]
  },
  {
   "cell_type": "code",
   "execution_count": 8,
   "metadata": {
    "scrolled": true
   },
   "outputs": [
    {
     "name": "stdout",
     "output_type": "stream",
     "text": [
      "post_id：235636715\n",
      "post_title：調酒師實戰手冊(II):12種雞尾酒中常見基本風味特徵與口感\n",
      "====================\n",
      "post_id：235287482\n",
      "post_title：過年品飲\n",
      "====================\n",
      "post_id：235004980\n",
      "post_title：【品酒】金標響17\n",
      "====================\n",
      "post_id：234710848\n",
      "post_title：「台北酒吧分享」流年當鋪-當吧\n",
      "====================\n",
      "post_id：234304237\n",
      "post_title：兔子酒\n",
      "====================\n",
      "post_id：233918229\n",
      "post_title：[品酒文］The Drink Malt Kawaii Animal Series Tormore 19Yo\n",
      "====================\n",
      "post_id：233628150\n",
      "post_title：[心得] 工藝琴酒全書\n",
      "====================\n",
      "post_id：233252201\n",
      "post_title：[威士忌] 雙獅會 x Or Sileis 高原騎士2007年單一麥芽威士忌原酒\n",
      "====================\n",
      "post_id：232888508\n",
      "post_title：＃新年威士忌禮盒  布納哈本12年\n",
      "====================\n",
      "post_id：232437803\n",
      "post_title：［調酒］教父🇮🇹\n",
      "====================\n",
      "post_id：231978408\n",
      "post_title：#酒廠製程介紹 Mortlach 2.81次蒸餾\n",
      "====================\n",
      "post_id：231781953\n",
      "post_title：#公告 品酒板板規\n",
      "====================\n"
     ]
    }
   ],
   "source": [
    "params = {\n",
    "    'limit':1,\n",
    "    'popular':'false'\n",
    "}\n",
    "\n",
    "while True:\n",
    "    a = requests.get(url, params=params)\n",
    "    data_list = a.json()\n",
    "    \n",
    "    if len(data_list) == 0:\n",
    "        break\n",
    "\n",
    "    data_time_list = [i for i in data_list if i['updatedAt'] > last_time]\n",
    "    \n",
    "    if len(data_time_list) > 0:\n",
    "        for i in data_time_list:\n",
    "            if dcard_col.find_one({'id': i['id']}):\n",
    "                dcard_col.update_many({'id': i['id']}, {\"$set\":i}, upsert = True)\n",
    "            else:\n",
    "                dcard_col.insert(data_time_list)\n",
    "\n",
    "    last_data = data_list[-1]\n",
    "    last_id = last_data['id']\n",
    "    \n",
    "    print('post_id：'+str(last_id))\n",
    "    print('post_title：'+str(last_data['title']))\n",
    "    print('='*20)\n",
    "    \n",
    "    params = {\n",
    "        'limit':100,\n",
    "        'popular':'false',\n",
    "        'before': last_id\n",
    "    }"
   ]
  },
  {
   "cell_type": "code",
   "execution_count": null,
   "metadata": {},
   "outputs": [],
   "source": []
  },
  {
   "cell_type": "code",
   "execution_count": null,
   "metadata": {},
   "outputs": [],
   "source": []
  },
  {
   "cell_type": "markdown",
   "metadata": {},
   "source": [
    "## 原版"
   ]
  },
  {
   "cell_type": "code",
   "execution_count": null,
   "metadata": {
    "scrolled": true
   },
   "outputs": [],
   "source": [
    "while True:\n",
    "    a = requests.get(url, params=params)\n",
    "    data = a.json()\n",
    "    \n",
    "    if len(data) == 0:\n",
    "        break\n",
    "        \n",
    "#     dcard_col.insert_many(data)\n",
    "    \n",
    "    last_data = data[-1]\n",
    "    last_id = last_data['id']\n",
    "    \n",
    "    print('post_id：'+str(last_id))\n",
    "    print('post_title：'+str(last_data['title']))\n",
    "    print('='*20)\n",
    "    \n",
    "    params = {\n",
    "        'limit':100,\n",
    "        'popular':'false',\n",
    "        'before': last_id\n",
    "    }\n",
    "    \n",
    "    time.sleep(0.5)"
   ]
  },
  {
   "cell_type": "code",
   "execution_count": null,
   "metadata": {},
   "outputs": [],
   "source": []
  }
 ],
 "metadata": {
  "kernelspec": {
   "display_name": "Python 3",
   "language": "python",
   "name": "python3"
  },
  "language_info": {
   "codemirror_mode": {
    "name": "ipython",
    "version": 3
   },
   "file_extension": ".py",
   "mimetype": "text/x-python",
   "name": "python",
   "nbconvert_exporter": "python",
   "pygments_lexer": "ipython3",
   "version": "3.7.1"
  },
  "toc": {
   "base_numbering": 1,
   "nav_menu": {},
   "number_sections": true,
   "sideBar": true,
   "skip_h1_title": false,
   "title_cell": "Table of Contents",
   "title_sidebar": "Contents",
   "toc_cell": false,
   "toc_position": {},
   "toc_section_display": true,
   "toc_window_display": false
  }
 },
 "nbformat": 4,
 "nbformat_minor": 5
}
