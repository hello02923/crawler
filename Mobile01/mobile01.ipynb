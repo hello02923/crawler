{
 "cells": [
  {
   "cell_type": "code",
   "execution_count": 1,
   "metadata": {},
   "outputs": [],
   "source": [
    "import requests\n",
    "from bs4 import BeautifulSoup\n",
    "import numpy as np\n",
    "import pandas as pd\n",
    "from tqdm import tqdm\n",
    "from selenium import webdriver\n",
    "from webdriver_manager.chrome import ChromeDriverManager"
   ]
  },
  {
   "cell_type": "code",
   "execution_count": 50,
   "metadata": {},
   "outputs": [
    {
     "name": "stderr",
     "output_type": "stream",
     "text": [
      " 13%|█▎        | 4/30 [00:03<00:19,  1.34it/s]"
     ]
    },
    {
     "name": "stdout",
     "output_type": "stream",
     "text": [
      "6218769 【Vinaera Travel｜攜帶式電子醒酒器】完全實測報告\n"
     ]
    },
    {
     "name": "stderr",
     "output_type": "stream",
     "text": [
      " 27%|██▋       | 8/30 [00:06<00:17,  1.23it/s]"
     ]
    },
    {
     "name": "stdout",
     "output_type": "stream",
     "text": [
      "6126529 【新入荷】Vinaera Pro電子醒酒器，Penfolds Bin8實測真相？\n"
     ]
    },
    {
     "name": "stderr",
     "output_type": "stream",
     "text": [
      "\r",
      " 30%|███       | 9/30 [00:07<00:16,  1.24it/s]"
     ]
    },
    {
     "name": "stdout",
     "output_type": "stream",
     "text": [
      "6101752 [採訪]百富威士忌首席調酒師典藏系列原酒 第二章 再度登台\n"
     ]
    },
    {
     "name": "stderr",
     "output_type": "stream",
     "text": [
      " 47%|████▋     | 14/30 [00:10<00:12,  1.26it/s]"
     ]
    },
    {
     "name": "stdout",
     "output_type": "stream",
     "text": [
      "5927472 喝啤酒也能減去肚裡脂肪？ 日本麒麟推出「Kirin Body FREE」啤酒\n",
      "5908296 暌違兩年再度登台 托本莫瑞12年單一麥芽蘇格蘭威士忌 全台限量12000瓶！\n"
     ]
    },
    {
     "name": "stderr",
     "output_type": "stream",
     "text": [
      "\r",
      " 50%|█████     | 15/30 [00:11<00:11,  1.31it/s]"
     ]
    },
    {
     "name": "stdout",
     "output_type": "stream",
     "text": [
      "5858463 長島冰啤來襲 臺虎精釀首款調酒系啤酒夏日登場！\n",
      "5846137 【採訪】Hennessy Declassified 解碼軒尼詩互動體驗展搶先看\n"
     ]
    },
    {
     "name": "stderr",
     "output_type": "stream",
     "text": [
      "\r",
      " 53%|█████▎    | 16/30 [00:12<00:11,  1.27it/s]"
     ]
    },
    {
     "name": "stdout",
     "output_type": "stream",
     "text": [
      "5839751 掌門精釀啤酒新酒登場 陪你歡度炎炎夏日\n"
     ]
    },
    {
     "name": "stderr",
     "output_type": "stream",
     "text": [
      "\r",
      " 57%|█████▋    | 17/30 [00:13<00:10,  1.21it/s]"
     ]
    },
    {
     "name": "stdout",
     "output_type": "stream",
     "text": [
      "5814228 青春回憶再度湧現 臺虎精釀與中華職棒聯名 推出30週年啤酒經典組合\n"
     ]
    },
    {
     "name": "stderr",
     "output_type": "stream",
     "text": [
      "\r",
      " 60%|██████    | 18/30 [00:14<00:11,  1.07it/s]"
     ]
    },
    {
     "name": "stdout",
     "output_type": "stream",
     "text": [
      "5798110 【採訪】藏封百年的傳奇工藝 Mortlach慕赫2.81品酩會\n"
     ]
    },
    {
     "name": "stderr",
     "output_type": "stream",
     "text": [
      "\r",
      " 63%|██████▎   | 19/30 [00:15<00:09,  1.16it/s]"
     ]
    },
    {
     "name": "stdout",
     "output_type": "stream",
     "text": [
      "5773653 【清酒喝一波】2019日本酒市集 Sake Commune 即將首度來襲\n",
      "5770174 【情報】蘇格登12年單一麥芽威士忌醇雪莉版 即將開始販售\n"
     ]
    },
    {
     "name": "stderr",
     "output_type": "stream",
     "text": [
      "\r",
      " 67%|██████▋   | 20/30 [00:16<00:08,  1.20it/s]"
     ]
    },
    {
     "name": "stdout",
     "output_type": "stream",
     "text": [
      "5737402 【採訪】全新風味來襲 馬爹利Curious Bar品酒會\n",
      "5574637 【週末喝一波】臺虎精釀莓納斯的誕生 現在到7-11就買得到囉\n"
     ]
    },
    {
     "name": "stderr",
     "output_type": "stream",
     "text": [
      " 77%|███████▋  | 23/30 [00:18<00:05,  1.24it/s]"
     ]
    },
    {
     "name": "stdout",
     "output_type": "stream",
     "text": [
      "5632388 【新訊】啤酒控怎麼能錯過 台南啤酒花大酒店\n"
     ]
    },
    {
     "name": "stderr",
     "output_type": "stream",
     "text": [
      "\r",
      " 80%|████████  | 24/30 [00:18<00:04,  1.37it/s]"
     ]
    },
    {
     "name": "stdout",
     "output_type": "stream",
     "text": [
      "4384940 【採訪】蘇格登酒廠匠藝系列14年原酒品酩會\n"
     ]
    },
    {
     "name": "stderr",
     "output_type": "stream",
     "text": [
      "\r",
      " 83%|████████▎ | 25/30 [00:19<00:03,  1.47it/s]"
     ]
    },
    {
     "name": "stdout",
     "output_type": "stream",
     "text": [
      "5580281 【採訪】窖藏42年的深刻滋味 蘇格登威士忌品酩會\n",
      "5570159 【新訊】SUNMAI金色三麥 推出年度全新精釀啤酒\n"
     ]
    },
    {
     "name": "stderr",
     "output_type": "stream",
     "text": [
      "\r",
      " 87%|████████▋ | 26/30 [00:20<00:03,  1.25it/s]"
     ]
    },
    {
     "name": "stdout",
     "output_type": "stream",
     "text": [
      "5453825 女孩們的最愛來了 臺虎精釀推出日常系列水果啤酒\n",
      "5330015 掌門精釀啤酒 首批限量瓶裝系列來襲\n",
      "5551818 【海外消息】 Barsys自動調酒機 居家飲酒好夥伴\n",
      "5523757 【夏日特別限定】海尼根世界城市滑水道 即將進駐高雄愛河\n"
     ]
    },
    {
     "name": "stderr",
     "output_type": "stream",
     "text": [
      "\r",
      " 90%|█████████ | 27/30 [00:21<00:02,  1.21it/s]"
     ]
    },
    {
     "name": "stdout",
     "output_type": "stream",
     "text": [
      "5513709 The PREMIUM MALT'S生啤機開箱 綿密啤酒泡沫就靠它\n",
      "5487502 【採訪】小惡魔獨家景點活動 SUNMAI BAR 金色三麥精釀啤酒吧\n"
     ]
    },
    {
     "name": "stderr",
     "output_type": "stream",
     "text": [
      "\r",
      " 93%|█████████▎| 28/30 [00:22<00:01,  1.13it/s]"
     ]
    },
    {
     "name": "stdout",
     "output_type": "stream",
     "text": [
      "5476955 [快訊]蘇格登 x 采采食茶聯名推出冰果酒凍粽 端午節來點不一樣的粽子吧！\n",
      "5464147 [海外快訊]可口可樂推出檸檬堂氣泡酒 正式跨入酒精飲料市場\n",
      "5410681 [開箱試喝]HOROYOI微醉沙瓦 夏日小酌最適合！\n",
      "5464307 [快訊]HOROYOI微醉沙瓦 初夏限定水果風味上市\n",
      "5462157 [快訊]海尼根歐冠盃限量新包裝 足球迷不能錯過！\n",
      "5457990 [採訪] SUNMAI BAR 金色三麥精釀啤酒吧 推出全新宮保料理\n",
      "5443388 [5月]小惡魔景點獨家活動 SUNMAI BAR 金色三麥精釀啤酒吧\n"
     ]
    },
    {
     "name": "stderr",
     "output_type": "stream",
     "text": [
      "\r",
      " 97%|█████████▋| 29/30 [00:23<00:00,  1.24it/s]"
     ]
    },
    {
     "name": "stdout",
     "output_type": "stream",
     "text": [
      "5433953 [快訊]The London Essence Co. 經典通寧水正式來台販售\n",
      "5433953 [快訊]SUNMAI金色三麥 x 屋頂上的貓 推出聯名設計款精釀啤酒\n"
     ]
    },
    {
     "name": "stderr",
     "output_type": "stream",
     "text": [
      "100%|██████████| 30/30 [00:24<00:00,  1.25it/s]"
     ]
    },
    {
     "name": "stdout",
     "output_type": "stream",
     "text": [
      "5374831 [快訊]啤酒控怎能不去朝聖  BrewDog精釀啤酒旅館正式募資成功\n",
      "5349568 [採訪]威士忌與精釀啤酒的完美融合 掌門精釀泥煤啤酒正式推出\n",
      "5371586 [季節限定大口喝]SUNMAI金色三麥草莓啤酒上市\n",
      "5373987 春節暢飲絕對最應景 臺虎精釀與三得利分別推出狗年限定啤酒\n"
     ]
    },
    {
     "name": "stderr",
     "output_type": "stream",
     "text": [
      "\n"
     ]
    }
   ],
   "source": [
    "temp_title = []\n",
    "temp_linknum = []\n",
    "temp_author = []\n",
    "temp_time = []\n",
    "\n",
    "\n",
    "for j in tqdm(range(30)):\n",
    "    myHeaders={'user-agent': 'my-app/0.0.1'}\n",
    "    r=requests.get('https://www.mobile01.com/topiclist.php?f=580&p='+str(j+1),headers=myHeaders)\n",
    "    sp=BeautifulSoup(r.text,'html.parser')\n",
    "    \n",
    "    \n",
    "    data_title = sp.find_all('a', {'class':\"c-link u-ellipsis\"})\n",
    "    data_author = sp.find_all('a', {'class':'c-link u-ellipsis u-username'})\n",
    "    data_release_time = sp.find_all('div', {'class':'o-fNotes'})\n",
    "    \n",
    "    for data in data_title:\n",
    "        temp_title.append(data.text)\n",
    "        try:\n",
    "            link = data['href'].split('t=')[1]\n",
    "            temp_linknum.append(link)\n",
    "\n",
    "        except:\n",
    "            temp_linknum.append('na')\n",
    "            print(link, data.text)\n",
    "        \n",
    "    for data in data_author:\n",
    "        temp_author.append(data.text)\n",
    "        \n",
    "    for data in data_release_time:\n",
    "        temp_time.append(data.text)\n",
    "        \n",
    "        \n",
    "        \n",
    "result = pd.DataFrame()\n",
    "result['title'] = temp_title\n",
    "result['authors'] = temp_author[0::2]\n",
    "result['time'] = temp_time[0::2]\n"
   ]
  },
  {
   "cell_type": "code",
   "execution_count": 45,
   "metadata": {
    "collapsed": true
   },
   "outputs": [
    {
     "data": {
      "text/html": [
       "<div>\n",
       "<style scoped>\n",
       "    .dataframe tbody tr th:only-of-type {\n",
       "        vertical-align: middle;\n",
       "    }\n",
       "\n",
       "    .dataframe tbody tr th {\n",
       "        vertical-align: top;\n",
       "    }\n",
       "\n",
       "    .dataframe thead th {\n",
       "        text-align: right;\n",
       "    }\n",
       "</style>\n",
       "<table border=\"1\" class=\"dataframe\">\n",
       "  <thead>\n",
       "    <tr style=\"text-align: right;\">\n",
       "      <th></th>\n",
       "      <th>title</th>\n",
       "      <th>authors</th>\n",
       "      <th>time</th>\n",
       "    </tr>\n",
       "  </thead>\n",
       "  <tbody>\n",
       "    <tr>\n",
       "      <th>0</th>\n",
       "      <td>3000~4000左右的威士忌，大家比較推薦哪支？</td>\n",
       "      <td>ck4fu04u6</td>\n",
       "      <td>2020-12-15 12:24</td>\n",
       "    </tr>\n",
       "    <tr>\n",
       "      <th>1</th>\n",
       "      <td>大家喜歡威士忌牛奶嗎？</td>\n",
       "      <td>鱈魚漢堡</td>\n",
       "      <td>2020-12-22 14:19</td>\n",
       "    </tr>\n",
       "    <tr>\n",
       "      <th>2</th>\n",
       "      <td>有哪些酒適合熱飲?</td>\n",
       "      <td>小小丹尼兒</td>\n",
       "      <td>2021-01-08 10:59</td>\n",
       "    </tr>\n",
       "    <tr>\n",
       "      <th>3</th>\n",
       "      <td>有推薦入門好喝的單一麥芽威士忌?</td>\n",
       "      <td>Brooklyn123</td>\n",
       "      <td>2020-11-17 19:50</td>\n",
       "    </tr>\n",
       "    <tr>\n",
       "      <th>4</th>\n",
       "      <td>紅酒真的有這麼便宜的嗎???!</td>\n",
       "      <td>專利益生菌</td>\n",
       "      <td>2020-12-22 14:49</td>\n",
       "    </tr>\n",
       "    <tr>\n",
       "      <th>...</th>\n",
       "      <td>...</td>\n",
       "      <td>...</td>\n",
       "      <td>...</td>\n",
       "    </tr>\n",
       "    <tr>\n",
       "      <th>295</th>\n",
       "      <td>不專業開箱文ROX不鏽鋼冰石</td>\n",
       "      <td>Daveyliu</td>\n",
       "      <td>2014-06-26 22:54</td>\n",
       "    </tr>\n",
       "    <tr>\n",
       "      <th>296</th>\n",
       "      <td>伏特加調酒組合分享</td>\n",
       "      <td>指尖上的舞者</td>\n",
       "      <td>2020-03-06 13:57</td>\n",
       "    </tr>\n",
       "    <tr>\n",
       "      <th>297</th>\n",
       "      <td>白酒比較喜歡Chardonnay 還是 Moscato?</td>\n",
       "      <td>trex810101</td>\n",
       "      <td>2020-03-04 16:24</td>\n",
       "    </tr>\n",
       "    <tr>\n",
       "      <th>298</th>\n",
       "      <td>麥卡倫2019..The Macallan Concept No. 2</td>\n",
       "      <td>我是魯夫</td>\n",
       "      <td>2020-02-05 12:13</td>\n",
       "    </tr>\n",
       "    <tr>\n",
       "      <th>299</th>\n",
       "      <td>雪莉桶有點用過頭的GLEN SCOTIA DOUBLE CASK 46% 格蘭帝 雙桶</td>\n",
       "      <td>素大帥耶</td>\n",
       "      <td>2020-03-05 11:51</td>\n",
       "    </tr>\n",
       "  </tbody>\n",
       "</table>\n",
       "<p>300 rows × 3 columns</p>\n",
       "</div>"
      ],
      "text/plain": [
       "                                           title      authors  \\\n",
       "0                      3000~4000左右的威士忌，大家比較推薦哪支？    ck4fu04u6   \n",
       "1                                    大家喜歡威士忌牛奶嗎？         鱈魚漢堡   \n",
       "2                                      有哪些酒適合熱飲?        小小丹尼兒   \n",
       "3                               有推薦入門好喝的單一麥芽威士忌?  Brooklyn123   \n",
       "4                                紅酒真的有這麼便宜的嗎???!        專利益生菌   \n",
       "..                                           ...          ...   \n",
       "295                               不專業開箱文ROX不鏽鋼冰石     Daveyliu   \n",
       "296                                    伏特加調酒組合分享       指尖上的舞者   \n",
       "297                 白酒比較喜歡Chardonnay 還是 Moscato?   trex810101   \n",
       "298          麥卡倫2019..The Macallan Concept No. 2         我是魯夫   \n",
       "299  雪莉桶有點用過頭的GLEN SCOTIA DOUBLE CASK 46% 格蘭帝 雙桶         素大帥耶   \n",
       "\n",
       "                 time  \n",
       "0    2020-12-15 12:24  \n",
       "1    2020-12-22 14:19  \n",
       "2    2021-01-08 10:59  \n",
       "3    2020-11-17 19:50  \n",
       "4    2020-12-22 14:49  \n",
       "..                ...  \n",
       "295  2014-06-26 22:54  \n",
       "296  2020-03-06 13:57  \n",
       "297  2020-03-04 16:24  \n",
       "298  2020-02-05 12:13  \n",
       "299  2020-03-05 11:51  \n",
       "\n",
       "[300 rows x 3 columns]"
      ]
     },
     "execution_count": 45,
     "metadata": {},
     "output_type": "execute_result"
    }
   ],
   "source": [
    "result"
   ]
  },
  {
   "cell_type": "code",
   "execution_count": 15,
   "metadata": {},
   "outputs": [],
   "source": [
    "post_content_pattern= 'https://www.mobile01.com/topicdetail.php?f=580&t={post_id}&p={page}'"
   ]
  },
  {
   "cell_type": "code",
   "execution_count": 18,
   "metadata": {},
   "outputs": [],
   "source": [
    "def get_content(url):\n",
    "    \n",
    "    \"\"\"    \n",
    "    crawler menu\n",
    "    url:url\n",
    "    \"\"\"\n",
    "    \n",
    "    headers = {'user-agent':'my-app/0.0.1'}\n",
    "    try:\n",
    "        res = requests.get(url, headers=headers)\n",
    "    except:\n",
    "        time.sleep(4)\n",
    "        res = requests.get(url, headers=headers)\n",
    "    bs = BeautifulSoup(res.content)\n",
    "    return bs"
   ]
  },
  {
   "cell_type": "code",
   "execution_count": 9,
   "metadata": {},
   "outputs": [],
   "source": [
    "def serialize_dialogue(page_content):\n",
    "    \n",
    "    \"\"\"\n",
    "    crawler comments\n",
    "    \"\"\"\n",
    "    \n",
    "    dialogues = {}\n",
    "    pages = page_content.find_all('div', 'l-articlePage')\n",
    "\n",
    "    for page in pages:\n",
    "        try:\n",
    "            author_name = page.find('div', 'l-articlePage__author').find('a').text.strip()\n",
    "            content_div = page.find('div', 'l-articlePage__publish')\n",
    "\n",
    "            content = content_div.find('article').text.strip().replace('\\n', '')\n",
    "            timesp, ordersp = content_div.find_all('span', 'o-fNotes')[-2:]\n",
    "            time = timesp.text.strip()\n",
    "            order = int(ordersp.text.strip().replace('#', ''))\n",
    "            dialogues[order] = {\n",
    "                'author_name': author_name,\n",
    "                'content': content,\n",
    "                'time': time,\n",
    "                }\n",
    "        except:\n",
    "            pass\n",
    "    return dialogues"
   ]
  },
  {
   "cell_type": "code",
   "execution_count": 16,
   "metadata": {},
   "outputs": [],
   "source": [
    "def pagination(post_id):\n",
    "    \"\"\"\n",
    "    count the pages and update\n",
    "    \"\"\"\n",
    "    dialogues = {}\n",
    "    page_content = get_content(\n",
    "            post_content_pattern.format(page=1, post_id=post_id))\n",
    "    tmp = page_content.find('ul', 'l-pagination')\n",
    "\n",
    "    if tmp is None:\n",
    "        allpage = 1\n",
    "\n",
    "    else:\n",
    "        allpage = int(tmp.findAll('li')[-1].text)\n",
    "\n",
    "    dialogues.update(serialize_dialogue(page_content))\n",
    "\n",
    "    for page in range(2, allpage+1):\n",
    "        page_content = get_content(post_content_pattern.format(page=page, post_id=post_id))\n",
    "        dialogues.update(serialize_dialogue(page_content))\n",
    "        \n",
    "    tosave = [dialogues]\n",
    "    return tosave"
   ]
  },
  {
   "cell_type": "code",
   "execution_count": 51,
   "metadata": {},
   "outputs": [
    {
     "data": {
      "text/html": [
       "<div>\n",
       "<style scoped>\n",
       "    .dataframe tbody tr th:only-of-type {\n",
       "        vertical-align: middle;\n",
       "    }\n",
       "\n",
       "    .dataframe tbody tr th {\n",
       "        vertical-align: top;\n",
       "    }\n",
       "\n",
       "    .dataframe thead th {\n",
       "        text-align: right;\n",
       "    }\n",
       "</style>\n",
       "<table border=\"1\" class=\"dataframe\">\n",
       "  <thead>\n",
       "    <tr style=\"text-align: right;\">\n",
       "      <th></th>\n",
       "      <th>title</th>\n",
       "      <th>authors</th>\n",
       "      <th>time</th>\n",
       "      <th>comments</th>\n",
       "    </tr>\n",
       "  </thead>\n",
       "  <tbody>\n",
       "    <tr>\n",
       "      <th>0</th>\n",
       "      <td>3000~4000左右的威士忌，大家比較推薦哪支？</td>\n",
       "      <td>ck4fu04u6</td>\n",
       "      <td>2020-12-15 12:24</td>\n",
       "      <td>[{1: {'author_name': 'ck4fu04u6', 'content': '...</td>\n",
       "    </tr>\n",
       "    <tr>\n",
       "      <th>1</th>\n",
       "      <td>大家喜歡威士忌牛奶嗎？</td>\n",
       "      <td>鱈魚漢堡</td>\n",
       "      <td>2020-12-22 14:19</td>\n",
       "      <td>[{1: {'author_name': '鱈魚漢堡', 'content': '從來沒喝過...</td>\n",
       "    </tr>\n",
       "    <tr>\n",
       "      <th>2</th>\n",
       "      <td>有哪些酒適合熱飲?</td>\n",
       "      <td>小小丹尼兒</td>\n",
       "      <td>2021-01-08 10:59</td>\n",
       "      <td>[{1: {'author_name': '小小丹尼兒', 'content': '像是清酒...</td>\n",
       "    </tr>\n",
       "    <tr>\n",
       "      <th>3</th>\n",
       "      <td>有推薦入門好喝的單一麥芽威士忌?</td>\n",
       "      <td>Brooklyn123</td>\n",
       "      <td>2020-11-17 19:50</td>\n",
       "      <td>[{1: {'author_name': 'Brooklyn123', 'content':...</td>\n",
       "    </tr>\n",
       "    <tr>\n",
       "      <th>4</th>\n",
       "      <td>紅酒真的有這麼便宜的嗎???!</td>\n",
       "      <td>專利益生菌</td>\n",
       "      <td>2020-12-22 14:49</td>\n",
       "      <td>[{1: {'author_name': '專利益生菌', 'content': '因為預算...</td>\n",
       "    </tr>\n",
       "    <tr>\n",
       "      <th>...</th>\n",
       "      <td>...</td>\n",
       "      <td>...</td>\n",
       "      <td>...</td>\n",
       "      <td>...</td>\n",
       "    </tr>\n",
       "    <tr>\n",
       "      <th>895</th>\n",
       "      <td>[季節限定大口喝]SUNMAI金色三麥草莓啤酒上市</td>\n",
       "      <td>艾迪林</td>\n",
       "      <td>2018-01-08 13:54</td>\n",
       "      <td>[{}]</td>\n",
       "    </tr>\n",
       "    <tr>\n",
       "      <th>896</th>\n",
       "      <td>[開箱]  超強保冰保鮮啤酒神器 爆冰啤酒機  開箱分享</td>\n",
       "      <td>Paper camper</td>\n",
       "      <td>2017-11-21 17:19</td>\n",
       "      <td>[{1: {'author_name': 'Paper camper', 'content'...</td>\n",
       "    </tr>\n",
       "    <tr>\n",
       "      <th>897</th>\n",
       "      <td>酒壺裝烈酒時間</td>\n",
       "      <td>赤心</td>\n",
       "      <td>2018-01-23 20:58</td>\n",
       "      <td>[{1: {'author_name': '赤心', 'content': '請問304不鏽...</td>\n",
       "    </tr>\n",
       "    <tr>\n",
       "      <th>898</th>\n",
       "      <td>春節暢飲絕對最應景 臺虎精釀與三得利分別推出狗年限定啤酒</td>\n",
       "      <td>艾迪林</td>\n",
       "      <td>2018-01-22 10:28</td>\n",
       "      <td>[{}]</td>\n",
       "    </tr>\n",
       "    <tr>\n",
       "      <th>899</th>\n",
       "      <td>防風打火機</td>\n",
       "      <td>simon 顏</td>\n",
       "      <td>2018-01-21 3:12</td>\n",
       "      <td>[{1: {'author_name': 'simon 顏', 'content': '請問...</td>\n",
       "    </tr>\n",
       "  </tbody>\n",
       "</table>\n",
       "<p>900 rows × 4 columns</p>\n",
       "</div>"
      ],
      "text/plain": [
       "                            title       authors              time  \\\n",
       "0       3000~4000左右的威士忌，大家比較推薦哪支？     ck4fu04u6  2020-12-15 12:24   \n",
       "1                     大家喜歡威士忌牛奶嗎？          鱈魚漢堡  2020-12-22 14:19   \n",
       "2                       有哪些酒適合熱飲?         小小丹尼兒  2021-01-08 10:59   \n",
       "3                有推薦入門好喝的單一麥芽威士忌?   Brooklyn123  2020-11-17 19:50   \n",
       "4                 紅酒真的有這麼便宜的嗎???!         專利益生菌  2020-12-22 14:49   \n",
       "..                            ...           ...               ...   \n",
       "895     [季節限定大口喝]SUNMAI金色三麥草莓啤酒上市           艾迪林  2018-01-08 13:54   \n",
       "896  [開箱]  超強保冰保鮮啤酒神器 爆冰啤酒機  開箱分享  Paper camper  2017-11-21 17:19   \n",
       "897                       酒壺裝烈酒時間            赤心  2018-01-23 20:58   \n",
       "898  春節暢飲絕對最應景 臺虎精釀與三得利分別推出狗年限定啤酒           艾迪林  2018-01-22 10:28   \n",
       "899                         防風打火機       simon 顏   2018-01-21 3:12   \n",
       "\n",
       "                                              comments  \n",
       "0    [{1: {'author_name': 'ck4fu04u6', 'content': '...  \n",
       "1    [{1: {'author_name': '鱈魚漢堡', 'content': '從來沒喝過...  \n",
       "2    [{1: {'author_name': '小小丹尼兒', 'content': '像是清酒...  \n",
       "3    [{1: {'author_name': 'Brooklyn123', 'content':...  \n",
       "4    [{1: {'author_name': '專利益生菌', 'content': '因為預算...  \n",
       "..                                                 ...  \n",
       "895                                               [{}]  \n",
       "896  [{1: {'author_name': 'Paper camper', 'content'...  \n",
       "897  [{1: {'author_name': '赤心', 'content': '請問304不鏽...  \n",
       "898                                               [{}]  \n",
       "899  [{1: {'author_name': 'simon 顏', 'content': '請問...  \n",
       "\n",
       "[900 rows x 4 columns]"
      ]
     },
     "execution_count": 51,
     "metadata": {},
     "output_type": "execute_result"
    }
   ],
   "source": [
    "list_ = []\n",
    "for i in temp_linknum:\n",
    "    list_.append(pagination(i))\n",
    "result['comments'] = list_\n",
    "result"
   ]
  },
  {
   "cell_type": "code",
   "execution_count": 52,
   "metadata": {},
   "outputs": [],
   "source": [
    "result.to_csv('mobile01_alcohol.csv')"
   ]
  },
  {
   "cell_type": "code",
   "execution_count": null,
   "metadata": {},
   "outputs": [],
   "source": []
  }
 ],
 "metadata": {
  "kernelspec": {
   "display_name": "Python 3",
   "language": "python",
   "name": "python3"
  },
  "language_info": {
   "codemirror_mode": {
    "name": "ipython",
    "version": 3
   },
   "file_extension": ".py",
   "mimetype": "text/x-python",
   "name": "python",
   "nbconvert_exporter": "python",
   "pygments_lexer": "ipython3",
   "version": "3.7.1"
  }
 },
 "nbformat": 4,
 "nbformat_minor": 2
}
